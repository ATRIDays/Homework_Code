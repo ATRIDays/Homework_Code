{
 "cells": [
  {
   "cell_type": "code",
   "id": "initial_id",
   "metadata": {
    "collapsed": true,
    "ExecuteTime": {
     "end_time": "2024-05-28T02:32:30.097218Z",
     "start_time": "2024-05-28T02:32:30.092898Z"
    }
   },
   "source": [
    "from pyecharts.charts import Bar\n",
    "from pyecharts import options as opts\n",
    "\n",
    "# %matplotlib inline"
   ],
   "outputs": [],
   "execution_count": 13
  },
  {
   "metadata": {
    "ExecuteTime": {
     "end_time": "2024-05-28T02:33:54.449137Z",
     "start_time": "2024-05-28T02:33:54.441538Z"
    }
   },
   "cell_type": "code",
   "source": [
    "bar = (\n",
    "    Bar()\n",
    "    .add_xaxis([\"衬衫\", \"毛衣\", \"领带\", \"裤子\", \"风衣\", \"高跟鞋\", \"袜子\"])\n",
    "    .add_yaxis(\"商家A\", [114, 55, 27, 101, 125, 27, 105])\n",
    "    .set_global_opts(title_opts=opts.TitleOpts(title=\"某商场销售情况\"))\n",
    ")\n",
    "\n",
    "bar.render()"
   ],
   "id": "2b76d266549b3ae1",
   "outputs": [
    {
     "data": {
      "text/plain": [
       "'/Volumes/Work/Code/GitHub/Homework_Code/Class/Pyecharts/render.html'"
      ]
     },
     "execution_count": 15,
     "metadata": {},
     "output_type": "execute_result"
    }
   ],
   "execution_count": 15
  },
  {
   "metadata": {
    "ExecuteTime": {
     "end_time": "2024-05-28T02:43:11.246672Z",
     "start_time": "2024-05-28T02:43:11.238677Z"
    }
   },
   "cell_type": "code",
   "source": [
    "from pyecharts.charts import Pie, Page\n",
    "wd = [\"教授\", \"副教授\", \"讲师\", \"助教\", \"其他\"]\n",
    "num = [20, 30, 10, 12, 8]\n",
    "c = (\n",
    "    Pie()\n",
    "    .add(\"\", [list(z) for z in zip(wd, num)], radius=[\"40%\", \"75%\"])\n",
    "    \n",
    "    .set_global_opts(title_opts=opts.TitleOpts(title=\"Pie-Radius\"),\n",
    "                     legend_opts=opts.LegendOpts(orient=\"vertical\", pos_top=\"5%\", pos_left=\"2%\"))\n",
    "    .set_series_opts(label_opts=opts.LabelOpts(formatter=\"{b}:{c}\"))\n",
    ")\n",
    "c.render()"
   ],
   "id": "5f95c84334aa395f",
   "outputs": [
    {
     "data": {
      "text/plain": [
       "'/Volumes/Work/Code/GitHub/Homework_Code/Class/Pyecharts/render.html'"
      ]
     },
     "execution_count": 16,
     "metadata": {},
     "output_type": "execute_result"
    }
   ],
   "execution_count": 16
  },
  {
   "metadata": {},
   "cell_type": "code",
   "outputs": [],
   "execution_count": null,
   "source": "",
   "id": "dd43d8f03845c37c"
  }
 ],
 "metadata": {
  "kernelspec": {
   "display_name": "Python 3",
   "language": "python",
   "name": "python3"
  },
  "language_info": {
   "codemirror_mode": {
    "name": "ipython",
    "version": 2
   },
   "file_extension": ".py",
   "mimetype": "text/x-python",
   "name": "python",
   "nbconvert_exporter": "python",
   "pygments_lexer": "ipython2",
   "version": "2.7.6"
  }
 },
 "nbformat": 4,
 "nbformat_minor": 5
}

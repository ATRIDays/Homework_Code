{
 "cells": [
  {
   "cell_type": "code",
   "id": "initial_id",
   "metadata": {
    "collapsed": true,
    "ExecuteTime": {
     "end_time": "2024-05-08T04:32:11.922193Z",
     "start_time": "2024-05-08T04:32:11.913666Z"
    }
   },
   "source": [
    "import pandas as pd\n",
    "import seaborn as sns\n",
    "data = sns.load_dataset('iris')\n",
    "data.head()\n",
    "\n",
    "iris = sns.load_dataset('iris', cache=True)\n",
    "df = sns.load_dataset('iris')"
   ],
   "execution_count": 1,
   "outputs": []
  },
  {
   "metadata": {
    "ExecuteTime": {
     "end_time": "2024-05-08T04:32:12.941349Z",
     "start_time": "2024-05-08T04:32:11.929741Z"
    }
   },
   "cell_type": "code",
   "source": [
    "mri =sns.load_dataset('fmri')\n",
    "\n",
    "#绘制不同地区不同时间x和y的线性关系图\n",
    "sns.lineplot(x='timepoint', y='signal', \\\n",
    "             hue='region',style='event', data=mri)\n",
    "\n",
    "fmri = sns.load_dataset('fmri')\n",
    "sns.relplot(data=fmri, kind='line', \\\n",
    "            x='timepoint', y='signal', \\\n",
    "            hue='event',style='event')\n"
   ],
   "id": "a6cb697836af7865",
   "execution_count": 2,
   "outputs": []
  },
  {
   "metadata": {
    "ExecuteTime": {
     "end_time": "2024-05-08T04:32:13.100939Z",
     "start_time": "2024-05-08T04:32:12.942426Z"
    }
   },
   "cell_type": "code",
   "source": [
    "import numpy as np\n",
    "import pandas as pd\n",
    "\n",
    "rs = np.random.RandomState(365)\n",
    "values = rs.randn(365, 4).cumsum(axis=0)\n",
    "datas = pd.date_range(\"1, 1, 2016\", periods=365, freq='D')\n",
    "data = pd.DataFrame(values, datas, columns=['A', 'B', 'C', 'D'])\n",
    "data = data.rolling(7).mean()\n",
    "\n",
    "sns.lineplot(data=data, palette='tab10', linewidth=2.5) "
   ],
   "id": "a9dc63ae3b2e06f0",
   "execution_count": 3,
   "outputs": []
  },
  {
   "metadata": {
    "ExecuteTime": {
     "end_time": "2024-05-08T04:32:13.762863Z",
     "start_time": "2024-05-08T04:32:13.101819Z"
    }
   },
   "cell_type": "code",
   "source": [
    "dots = sns.load_dataset('dots')\n",
    "sns.relplot(x='time', y='firing_rate', col='align', \\\n",
    "            size_order=['T1', 'T2'], \\\n",
    "            height=5, aspect=0.75, facet_kws=dict(sharex=False), \\\n",
    "            kind='line', legend='full', data=dots)"
   ],
   "id": "6af0dd4cc77a95ef",
   "execution_count": 4,
   "outputs": []
  },
  {
   "metadata": {
    "ExecuteTime": {
     "end_time": "2024-05-08T04:32:14.480559Z",
     "start_time": "2024-05-08T04:32:13.764120Z"
    }
   },
   "cell_type": "code",
   "source": [
    "fmri = sns.load_dataset('fmri')\n",
    "sns.relplot(x='timepoint', y='signal', \\\n",
    "            col='region', hue='event', \\\n",
    "            style='event', kind='line', data=fmri)"
   ],
   "id": "5f66997856b1d50f",
   "execution_count": 5,
   "outputs": []
  },
  {
   "metadata": {
    "ExecuteTime": {
     "end_time": "2024-05-08T04:32:14.660718Z",
     "start_time": "2024-05-08T04:32:14.481223Z"
    }
   },
   "cell_type": "code",
   "source": [
    "import matplotlib.pyplot as plt\n",
    "\n",
    "sns.set(style='whitegrid')\n",
    "diamonds = sns.load_dataset('diamonds')\n",
    "print(diamonds.head())\n",
    "\n",
    "f, ax = plt.subplots(figsize=(6.5, 6.5))\n",
    "sns.despine(f, left=True, bottom=True)\n",
    "sns.scatterplot(x='depth', y='table', \\\n",
    "                data=diamonds, ax=ax)"
   ],
   "id": "ff91ee46032c5587",
   "execution_count": 6,
   "outputs": []
  },
  {
   "metadata": {
    "ExecuteTime": {
     "end_time": "2024-05-08T04:32:14.760243Z",
     "start_time": "2024-05-08T04:32:14.661755Z"
    }
   },
   "cell_type": "code",
   "source": [
    "tips = sns.load_dataset('tips')\n",
    "print(tips.head())\n",
    "\n",
    "sns.catplot(x='day', y='total_bill', \\\n",
    "            data=tips, hue='day', jitter=True, \\\n",
    "            height=5, s=6, edgecolor='w', linewidth=1, marker='o')"
   ],
   "id": "f7d0f17ea1468a09",
   "execution_count": 7,
   "outputs": []
  },
  {
   "metadata": {
    "ExecuteTime": {
     "end_time": "2024-05-08T04:32:14.959090Z",
     "start_time": "2024-05-08T04:32:14.760856Z"
    }
   },
   "cell_type": "code",
   "source": [
    "#kind='swarm'表示蜂群图 防止点重合\n",
    "sns.catplot(x='day', y='total_bill', \\\n",
    "            data=tips, hue='sex', kind='swarm', \\\n",
    "            height=5, s=5.5)"
   ],
   "id": "592ec41dc587abb1",
   "execution_count": 8,
   "outputs": []
  },
  {
   "metadata": {
    "ExecuteTime": {
     "end_time": "2024-05-08T04:32:15.090936Z",
     "start_time": "2024-05-08T04:32:14.960010Z"
    }
   },
   "cell_type": "code",
   "source": [
    "#调色盘\n",
    "sns.catplot(hue='day', x='sex', y='total_bill', \\\n",
    "            data=tips, jitter=True,\n",
    "            palette='Set2', dodge=True)"
   ],
   "id": "2c876ce461b8e5db",
   "execution_count": 9,
   "outputs": []
  },
  {
   "metadata": {
    "ExecuteTime": {
     "end_time": "2024-05-08T04:32:15.188806Z",
     "start_time": "2024-05-08T04:32:15.091750Z"
    }
   },
   "cell_type": "code",
   "source": [
    "#排序\n",
    "print(tips['day'].value_counts())\n",
    "\n",
    "sns.catplot(x='day', y='total_bill', \\\n",
    "            data=tips, hue='day', \\\n",
    "            order=['Thur', 'Fri', 'Sat', 'Sun'])"
   ],
   "id": "7184289f0236a90f",
   "execution_count": 10,
   "outputs": []
  },
  {
   "metadata": {
    "ExecuteTime": {
     "end_time": "2024-05-08T04:32:15.326103Z",
     "start_time": "2024-05-08T04:32:15.191883Z"
    }
   },
   "cell_type": "code",
   "source": [
    "#气泡图\n",
    "planets = sns.load_dataset('planets')\n",
    "\n",
    "cmap = sns.cubehelix_palette(rot=-.2, as_cmap=True)\n",
    "ax = sns.scatterplot(x='distance', y='orbital_period', \\\n",
    "                     hue='year', size='mass', \\\n",
    "                     palette=cmap, sizes=(10, 200), \\\n",
    "                     data=planets)"
   ],
   "id": "6314bbba6f8facef",
   "execution_count": 11,
   "outputs": []
  },
  {
   "metadata": {
    "ExecuteTime": {
     "end_time": "2024-05-08T04:32:15.579851Z",
     "start_time": "2024-05-08T04:32:15.326873Z"
    }
   },
   "cell_type": "code",
   "source": [
    "#彩色气泡图\n",
    "sns.set(style='white')\n",
    "\n",
    "mpg = sns.load_dataset('mpg')\n",
    "sns.relplot(x='horsepower', y='mpg', \\\n",
    "            hue='origin', size='weight', \\\n",
    "            sizes=(40, 400), alpha=.5, \\\n",
    "            palette='muted', height=6, data=mpg)"
   ],
   "id": "dfbe039914b375bb",
   "execution_count": 12,
   "outputs": []
  },
  {
   "metadata": {
    "ExecuteTime": {
     "end_time": "2024-05-08T04:32:15.719661Z",
     "start_time": "2024-05-08T04:32:15.581002Z"
    }
   },
   "cell_type": "code",
   "source": [
    "tips = sns.load_dataset('tips')\n",
    "sns.boxplot(x='day', y='total_bill', \\\n",
    "            hue='smoker', data=tips, palette=['m', 'g'])\n",
    "\n",
    "sns.despine(offset=10, trim=True)"
   ],
   "id": "e858ea705f971435",
   "execution_count": 13,
   "outputs": []
  },
  {
   "metadata": {
    "ExecuteTime": {
     "end_time": "2024-05-08T04:32:15.828677Z",
     "start_time": "2024-05-08T04:32:15.721153Z"
    }
   },
   "cell_type": "code",
   "source": [
    "sns.catplot(x='day', y='total_bill', data=tips,\\\n",
    "            kind='box', linewidth=2, \\\n",
    "            width=0.6, fliersize=5, palette='hls', \\\n",
    "            whis=1.5, notch=True, \\\n",
    "            order=['Thur', 'Fri', 'Sat', 'Sun'])"
   ],
   "id": "eef12c8f64fd5896",
   "execution_count": 14,
   "outputs": []
  },
  {
   "metadata": {
    "ExecuteTime": {
     "end_time": "2024-05-08T04:32:16.074876Z",
     "start_time": "2024-05-08T04:32:15.829945Z"
    }
   },
   "cell_type": "code",
   "source": [
    "sns.catplot(x='day', y='total_bill', data=tips, \\\n",
    "            kind='box', hue='smoker', height=6)\n",
    "#此处不可以使用catplot，否则就会变为两个图\n",
    "sns.swarmplot(x='day', y='total_bill', data=tips, \\\n",
    "              color='k', size=3, alpha=0.5)"
   ],
   "id": "271e78d482ca4dc6",
   "execution_count": 15,
   "outputs": []
  },
  {
   "metadata": {
    "ExecuteTime": {
     "end_time": "2024-05-08T04:32:16.280648Z",
     "start_time": "2024-05-08T04:32:16.076423Z"
    }
   },
   "cell_type": "code",
   "source": [
    "diamonds = sns.load_dataset('diamonds')\n",
    "print(diamonds.head(3))\n",
    "sns.catplot(x='color', y='price', data=diamonds.sort_values(\"color\"), \\\n",
    "            kind='boxen', height=6)"
   ],
   "id": "b0a9df2eacfb88f5",
   "execution_count": 16,
   "outputs": []
  },
  {
   "metadata": {
    "ExecuteTime": {
     "end_time": "2024-05-08T04:32:16.405382Z",
     "start_time": "2024-05-08T04:32:16.281909Z"
    }
   },
   "cell_type": "code",
   "source": [
    "rs = np.random.RandomState(0)\n",
    "n, p = 40, 8\n",
    "d = rs.normal(0, 2, (n, p))\n",
    "d += np.log(np.arange(1, p + 1)) * -5 + 10\n",
    "\n",
    "pal = sns.cubehelix_palette(p, rot=-.5, dark=.3)\n",
    "sns.violinplot(data=d, palette=pal, inner='point') #quantiles, sticks, point, Box(默认)"
   ],
   "id": "d150acf51c27d7d",
   "execution_count": 17,
   "outputs": []
  },
  {
   "metadata": {
    "ExecuteTime": {
     "end_time": "2024-05-08T04:32:16.510583Z",
     "start_time": "2024-05-08T04:32:16.406401Z"
    }
   },
   "cell_type": "code",
   "source": [
    "tips = sns.load_dataset('tips')\n",
    "sns.violinplot(x='day', y='total_bill', data=tips, \\\n",
    "               hue='smoker', split=True, inner='quart', \\\n",
    "               palette={'Yes': 'y', 'No': 'b'})\n",
    "sns.despine(left=True)"
   ],
   "id": "8b51cf9e9d026ca",
   "execution_count": 18,
   "outputs": []
  },
  {
   "metadata": {
    "ExecuteTime": {
     "end_time": "2024-05-08T04:32:16.513113Z",
     "start_time": "2024-05-08T04:32:16.511622Z"
    }
   },
   "cell_type": "code",
   "source": "",
   "id": "336b46f75b804467",
   "execution_count": 18,
   "outputs": []
  }
 ],
 "metadata": {
  "kernelspec": {
   "display_name": "Python 3",
   "language": "python",
   "name": "python3"
  },
  "language_info": {
   "codemirror_mode": {
    "name": "ipython",
    "version": 2
   },
   "file_extension": ".py",
   "mimetype": "text/x-python",
   "name": "python",
   "nbconvert_exporter": "python",
   "pygments_lexer": "ipython2",
   "version": "2.7.6"
  }
 },
 "nbformat": 4,
 "nbformat_minor": 5
}

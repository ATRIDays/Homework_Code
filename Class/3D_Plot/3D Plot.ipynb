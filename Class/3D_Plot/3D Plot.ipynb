{
 "cells": [
  {
   "cell_type": "code",
   "id": "initial_id",
   "metadata": {
    "collapsed": true
   },
   "source": [
    "import matplotlib.pyplot as plt\n",
    "import numpy as np\n",
    "x = np.arange(3)\n",
    "y = np.arange(3)\n",
    "x_mesh, y_mesh = np.meshgrid(x, y)\n",
    "z = np.array([[1, 2, 3], [4, 5, 6], [7, 8, 9]])\n",
    "\n",
    "fig = plt.figure()\n",
    "ax = fig .add_subplot(111, projection=\"3d\")\n",
    "\n",
    "ax.bar3d(x_mesh.flatten(), y_mesh.flatten(), np.zeros_like(z).flatten(),\\\n",
    "         0.5, 0.5, z.flatten())\n",
    "\n",
    "ax.set_xlabel('X')\n",
    "ax.set_ylabel('Y')\n",
    "ax.set_zlabel('Z')"
   ],
   "outputs": [],
   "execution_count": null
  },
  {
   "metadata": {},
   "cell_type": "code",
   "source": [
    "from mpl_toolkits.mplot3d import Axes3D\n",
    "\n",
    "fig = plt.figure()\n",
    "ax = fig.add_subplot(111, projection=\"3d\")\n",
    "for c, z in zip(['r', 'g', 'b', y], [30, 20, 10, 0]):\n",
    "    xs = np.arange(20)\n",
    "    ys = np.random.rand(20)\n",
    "    \n",
    "    cs = [c] * len(xs)\n",
    "    cs[0] = 'c'\n",
    "    ax.bar(xs, ys, zs=z, zdir='y', color=cs, alpha=0.8)\n",
    "\n",
    "ax.set_xlabel('X')\n",
    "ax.set_ylabel('Y')\n",
    "ax.set_zlabel('Z')\n",
    "plt.show() "
   ],
   "id": "4b4c292a208b61b0",
   "outputs": [],
   "execution_count": null
  },
  {
   "metadata": {},
   "cell_type": "code",
   "source": [
    "def f(x, y):\n",
    "    return np.sin(np.sqrt(x ** 2 + y ** 2))\n",
    "\n",
    "import mpl_toolkits.mplot3d\n",
    "\n",
    "x = np.linspace(-1, 1, 100)\n",
    "y = np.linspace(-1, 1, 100)\n",
    "X, Y = np.meshgrid(x, y)\n",
    "Z = f(X, Y)\n",
    "\n",
    "fig = plt.figure()\n",
    "ax = plt.axes(projection = \"3d\")\n",
    "ax.contour(X, Y, Z, 50, cmap=\"binary\")\n",
    "ax.set_title(\"Scatter 3D Line\")\n",
    "\n",
    "ax.set_xlabel('X')\n",
    "ax.set_ylabel('Y')\n",
    "ax.set_zlabel('Z')\n",
    "plt.show() "
   ],
   "id": "ebbe53761597afc0",
   "outputs": [],
   "execution_count": null
  },
  {
   "metadata": {},
   "cell_type": "code",
   "source": [
    "from mpl_toolkits.mplot3d import axes3d\n",
    "from matplotlib import cm\n",
    "\n",
    "fig = plt.figure()\n",
    "ax = fig.add_axes(Axes3D(fig))\n",
    "X, Y, Z = axes3d.get_test_data(0.05)\n",
    "ax.plot_surface(X, Y, Z, rstride=8, cstride=8, alpha=0.3)\n",
    "\n",
    "# cset = ax.contour(X, Y, Z, zdir='z', offset=-100, cmap=cm.coolwarm)\n",
    "# cset = ax.contour(X, Y, Z, zdir='y', offset=-40, cmap=cm.coolwarm)\n",
    "# cset = ax.contour(X, Y, Z, zdir='x', offset=40, cmap=cm.coolwarm)\n",
    "# 填充 contourf\n",
    "cset = ax.contourf(X, Y, Z, zdir='z', offset=-100, cmap=cm.coolwarm)\n",
    "cset = ax.contourf(X, Y, Z, zdir='y', offset=-40, cmap=cm.coolwarm)\n",
    "cset = ax.contourf(X, Y, Z, zdir='x', offset=40, cmap=cm.coolwarm)\n",
    "\n",
    "ax.set_xlabel('X')\n",
    "ax.set_xlim(-40, 40)\n",
    "ax.set_ylabel('Y')\n",
    "ax.set_ylim(-40, 40)\n",
    "ax.set_zlabel('Z')\n",
    "ax.set_zlim(-100, 100)\n",
    "plt.show() "
   ],
   "id": "1e5731e17d3c527",
   "outputs": [],
   "execution_count": null
  },
  {
   "metadata": {},
   "cell_type": "code",
   "source": [
    "np.random.seed(1)\n",
    "x = np.random.normal(0, 1, 100)\n",
    "y = np.random.normal(0, 1, 100)\n",
    "z = np.random.normal(0, 1, 100)\n",
    "\n",
    "fig = plt.figure()\n",
    "ax = plt.axes(111, projection=\"3d\")\n",
    "ax.boxplot([x, y, z])\n",
    "\n",
    "ax.set_title(\"3D Box Plot\")\n",
    "ax.set_xlabel('X')\n",
    "ax.set_ylabel('Y')\n",
    "ax.set_zlabel('Z')\n",
    "plt.show() "
   ],
   "id": "58f8ee6880ff2866",
   "outputs": [],
   "execution_count": null
  },
  {
   "metadata": {},
   "cell_type": "code",
   "source": [
    "x = np.outer(np.linspace(-2.5, 2.5, 100), np.ones(100))\n",
    "y = x.copy().T\n",
    "\n",
    "z = np.cos(x**2 + y **2)\n",
    "fig = plt.figure()\n",
    "ax = plt.axes(projection=\"3d\")\n",
    "ax.plot_surface(x, y, z, cmap=\"viridis\", edgecolor=\"none\")\n",
    "ax.set_title(\"Surface Plot\")\n",
    "plt.show()"
   ],
   "id": "7f5c58b31374b56a",
   "outputs": [],
   "execution_count": null
  },
  {
   "metadata": {},
   "cell_type": "code",
   "source": [
    "fig = plt.figure()\n",
    "ax = plt.axes(projection=\"3d\")\n",
    "\n",
    "xx= np.arange(-2*np.pi, 2*np.pi, 0.1)\n",
    "yy= np.arange(-2*np.pi, 2*np.pi, 0.1)\n",
    "X, Y = np.meshgrid(xx, yy)\n",
    "Z = np.sin(X)*np.sin(Y)\n",
    "\n",
    "ax.plot_surface(X, Y, Z, cstride=1, cmap=\"rainbow\")\n",
    "ax.contour(X, Y, Z, zdir='z', offset=-1, cmap=\"rainbow\")\n",
    "\n",
    "ax.set_xlabel('X')\n",
    "ax.set_ylabel('Y')\n",
    "ax.set_zlabel('Z')\n",
    "plt.show() "
   ],
   "id": "347750c6ae1fb4d1",
   "outputs": [],
   "execution_count": null
  },
  {
   "metadata": {},
   "cell_type": "code",
   "source": [
    "def f(x, y):\n",
    "    return np.sin(np.sqrt(x **2 + y**2))\n",
    "\n",
    "x = np.linspace(-6, 6, 30)\n",
    "y = np.linspace(-6, 6, 30)\n",
    "X, Y = np.meshgrid(x, y)\n",
    "Z = f(X, Y)\n",
    "\n",
    "fig = plt.figure()\n",
    "ax = plt.axes(projection=\"3d\")\n",
    "ax.contour3D(X, Y, Z, 50, cmap=\"binary\")\n",
    "\n",
    "ax.set_xlabel('X')\n",
    "ax.set_ylabel('Y')\n",
    "ax.set_zlabel('Z')\n",
    "plt.show() "
   ],
   "id": "b2b42cb4929aa0c5",
   "outputs": [],
   "execution_count": null
  },
  {
   "metadata": {},
   "cell_type": "code",
   "source": [
    "ax.view_init(60, 35) # 水平+垂直\n",
    "fig\n",
    "\n",
    "#线框图\n",
    "ax = plt.axes(projection=\"3d\")\n",
    "ax.plot_wireframe(X, Y, Z, color='g')\n",
    "ax.set_title('Wireframe')\n",
    "plt.show()\n"
   ],
   "id": "ab0a7bf3fc4ae40a",
   "outputs": [],
   "execution_count": null
  },
  {
   "metadata": {},
   "cell_type": "code",
   "source": [
    "r = np.linspace(0, 6, 20)\n",
    "theta = np.linspace(-0.9*np.pi, 0.8*np.pi, 40)\n",
    "r, theta = np.meshgrid(r, theta)\n",
    "\n",
    "X = r * np.sin(theta)\n",
    "Y = r * np.cos(theta)\n",
    "Z = f(X, Y)\n",
    "\n",
    "ax = plt.axes(projection=\"3d\")\n",
    "ax.plot_surface(X, Y, Z, rstride=1, cstride=1, cmap=\"viridis\", edgecolor=\"none\")\n",
    "\n",
    "# 转换角度 试图研究图形内部\n",
    "ax.view_init(20,-90)\n",
    "plt.show()"
   ],
   "id": "e797d63106e28e70",
   "outputs": [],
   "execution_count": null
  },
  {
   "metadata": {},
   "cell_type": "code",
   "source": [
    "theta = 2 * np.pi * np.random.random(1000)\n",
    "r = 6 * np.random.random(1000)\n",
    "x = np.ravel(r * np.sin(theta))\n",
    "y = np.ravel(r * np.cos(theta))\n",
    "z = f(x, y)\n",
    "\n",
    "ax = plt.axes(projection=\"3d\")\n",
    "ax.scatter(x, y, z, cmap=\"viridis\", linewidths=0.5)"
   ],
   "id": "544459d8ae9fc8cc",
   "outputs": [],
   "execution_count": null
  },
  {
   "metadata": {},
   "cell_type": "code",
   "source": [
    "theta = np.linspace(0, 2 *np.pi, 30)\n",
    "w = np.linspace(-0.25, 0.25, 8)\n",
    "w, theta = np.meshgrid(w, theta)\n",
    "\n",
    "phi = 0.5*theta\n",
    "\n",
    "r = 1 + w *np.cos(phi)\n",
    "x = np.ravel(r * np.cos(theta))\n",
    "y = np.ravel(r * np.sin(theta))\n",
    "z = np.ravel(w * np.sin(phi))\n",
    "\n",
    "from matplotlib.tri import Triangulation\n",
    "tri = Triangulation(np.ravel(w), np.ravel(theta))\n",
    "ax = plt.axes(projection=\"3d\")\n",
    "ax.plot_trisurf(x, y, z, triangles=tri.triangles, cmap=\"viridis\", linewidth=0.2);\n",
    "ax.set_xlim(-1, 1);ax.set_ylim(-1, 1);ax.set_zlim(-1, 1)"
   ],
   "id": "85f5ffdacd198c81",
   "outputs": [],
   "execution_count": null
  },
  {
   "metadata": {},
   "cell_type": "code",
   "source": "",
   "id": "64a7164374e64e32",
   "outputs": [],
   "execution_count": null
  }
 ],
 "metadata": {
  "kernelspec": {
   "display_name": "Python 3",
   "language": "python",
   "name": "python3"
  },
  "language_info": {
   "codemirror_mode": {
    "name": "ipython",
    "version": 2
   },
   "file_extension": ".py",
   "mimetype": "text/x-python",
   "name": "python",
   "nbconvert_exporter": "python",
   "pygments_lexer": "ipython2",
   "version": "2.7.6"
  }
 },
 "nbformat": 4,
 "nbformat_minor": 5
}

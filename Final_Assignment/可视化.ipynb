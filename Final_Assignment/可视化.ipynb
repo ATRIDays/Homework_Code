{
 "cells": [
  {
   "metadata": {
    "ExecuteTime": {
     "end_time": "2024-05-11T05:45:59.257360Z",
     "start_time": "2024-05-11T05:45:59.031789Z"
    }
   },
   "cell_type": "code",
   "source": [
    "import pandas as pd\n",
    "\n",
    "\n",
    "areas = ['binhu', 'liangxi', 'xinwu', 'huishan', 'xishan', 'jiangyinshi', 'yixingshi']\n",
    "\n",
    "# 创建一个空字典来存储每个区域的 DataFrame\n",
    "dfs = {}\n",
    "\n",
    "# 读取每个区域的 CSV 文件，并将其存储在字典中\n",
    "for area in areas:\n",
    "    df = pd.read_csv(f'./Data/二手房信息{area}.csv')\n",
    "    dfs[area] = df\n",
    "    print(dfs[area].shape)\n",
    "    # print(type(dfs[area]))  #验证不受影响\n",
    "\n",
    "dfs['xishan'].head(5)"
   ],
   "id": "a1fc43c2cf2852c5",
   "outputs": [
    {
     "name": "stdout",
     "output_type": "stream",
     "text": [
      "(3000, 12)\n",
      "(3000, 12)\n",
      "(3000, 12)\n",
      "(3000, 12)\n",
      "(3000, 12)\n",
      "(3000, 12)\n",
      "(29, 12)\n"
     ]
    },
    {
     "data": {
      "text/plain": [
       "                            标题        小区  区域     总价         单价     户型  \\\n",
       "0            诚售，看房方便，边套户型。采光好。     瑞景望府   安镇   140万  14,737元/平  3室2厅    \n",
       "1         锡山实小旁   花园叠墅    房东诚售  建发玖里湾4期   安镇   420万  31,358元/平  4室2厅    \n",
       "2      全屋空调带地暖，精装三房位置好，前排楼栋无遮挡  华润江南府北区   东亭   146万  16,679元/平  3室2厅    \n",
       "3         精装小三房  保养好楼层好   看房方便   万业观山泓郡   安镇   156万  18,263元/平  3室2厅    \n",
       "4  蓝光雍锦园荟聚地铁口 纯毛坯 带车位 诚心出售 随时看    蓝光雍锦园   东亭   138万  12,739元/平  3室2厅    \n",
       "\n",
       "           面积    朝向  装修情况  楼层类别   总层数   建筑类型  \n",
       "0       95平米    东南    毛坯    低楼层  共26层     板楼  \n",
       "1   133.94平米     南    精装    高楼层   共6层   暂无数据  \n",
       "2    87.54平米     南    精装    低楼层  共34层     板楼  \n",
       "3    85.42平米     南    精装    中楼层  共33层   暂无数据  \n",
       "4   108.33平米     南    毛坯    低楼层  共33层     板楼  "
      ],
      "text/html": [
       "<div>\n",
       "<style scoped>\n",
       "    .dataframe tbody tr th:only-of-type {\n",
       "        vertical-align: middle;\n",
       "    }\n",
       "\n",
       "    .dataframe tbody tr th {\n",
       "        vertical-align: top;\n",
       "    }\n",
       "\n",
       "    .dataframe thead th {\n",
       "        text-align: right;\n",
       "    }\n",
       "</style>\n",
       "<table border=\"1\" class=\"dataframe\">\n",
       "  <thead>\n",
       "    <tr style=\"text-align: right;\">\n",
       "      <th></th>\n",
       "      <th>标题</th>\n",
       "      <th>小区</th>\n",
       "      <th>区域</th>\n",
       "      <th>总价</th>\n",
       "      <th>单价</th>\n",
       "      <th>户型</th>\n",
       "      <th>面积</th>\n",
       "      <th>朝向</th>\n",
       "      <th>装修情况</th>\n",
       "      <th>楼层类别</th>\n",
       "      <th>总层数</th>\n",
       "      <th>建筑类型</th>\n",
       "    </tr>\n",
       "  </thead>\n",
       "  <tbody>\n",
       "    <tr>\n",
       "      <th>0</th>\n",
       "      <td>诚售，看房方便，边套户型。采光好。</td>\n",
       "      <td>瑞景望府</td>\n",
       "      <td>安镇</td>\n",
       "      <td>140万</td>\n",
       "      <td>14,737元/平</td>\n",
       "      <td>3室2厅</td>\n",
       "      <td>95平米</td>\n",
       "      <td>东南</td>\n",
       "      <td>毛坯</td>\n",
       "      <td>低楼层</td>\n",
       "      <td>共26层</td>\n",
       "      <td>板楼</td>\n",
       "    </tr>\n",
       "    <tr>\n",
       "      <th>1</th>\n",
       "      <td>锡山实小旁   花园叠墅    房东诚售</td>\n",
       "      <td>建发玖里湾4期</td>\n",
       "      <td>安镇</td>\n",
       "      <td>420万</td>\n",
       "      <td>31,358元/平</td>\n",
       "      <td>4室2厅</td>\n",
       "      <td>133.94平米</td>\n",
       "      <td>南</td>\n",
       "      <td>精装</td>\n",
       "      <td>高楼层</td>\n",
       "      <td>共6层</td>\n",
       "      <td>暂无数据</td>\n",
       "    </tr>\n",
       "    <tr>\n",
       "      <th>2</th>\n",
       "      <td>全屋空调带地暖，精装三房位置好，前排楼栋无遮挡</td>\n",
       "      <td>华润江南府北区</td>\n",
       "      <td>东亭</td>\n",
       "      <td>146万</td>\n",
       "      <td>16,679元/平</td>\n",
       "      <td>3室2厅</td>\n",
       "      <td>87.54平米</td>\n",
       "      <td>南</td>\n",
       "      <td>精装</td>\n",
       "      <td>低楼层</td>\n",
       "      <td>共34层</td>\n",
       "      <td>板楼</td>\n",
       "    </tr>\n",
       "    <tr>\n",
       "      <th>3</th>\n",
       "      <td>精装小三房  保养好楼层好   看房方便</td>\n",
       "      <td>万业观山泓郡</td>\n",
       "      <td>安镇</td>\n",
       "      <td>156万</td>\n",
       "      <td>18,263元/平</td>\n",
       "      <td>3室2厅</td>\n",
       "      <td>85.42平米</td>\n",
       "      <td>南</td>\n",
       "      <td>精装</td>\n",
       "      <td>中楼层</td>\n",
       "      <td>共33层</td>\n",
       "      <td>暂无数据</td>\n",
       "    </tr>\n",
       "    <tr>\n",
       "      <th>4</th>\n",
       "      <td>蓝光雍锦园荟聚地铁口 纯毛坯 带车位 诚心出售 随时看</td>\n",
       "      <td>蓝光雍锦园</td>\n",
       "      <td>东亭</td>\n",
       "      <td>138万</td>\n",
       "      <td>12,739元/平</td>\n",
       "      <td>3室2厅</td>\n",
       "      <td>108.33平米</td>\n",
       "      <td>南</td>\n",
       "      <td>毛坯</td>\n",
       "      <td>低楼层</td>\n",
       "      <td>共33层</td>\n",
       "      <td>板楼</td>\n",
       "    </tr>\n",
       "  </tbody>\n",
       "</table>\n",
       "</div>"
      ]
     },
     "execution_count": 1,
     "metadata": {},
     "output_type": "execute_result"
    }
   ],
   "execution_count": 1
  },
  {
   "metadata": {},
   "cell_type": "markdown",
   "source": [
    "<h1>地区:</h1>\n",
    "binhu liangxi xinwu huishan xishan jiangyinshi yixingshi  \n",
    "<h1>数据集:</h1>\n",
    "dfs['area']\n"
   ],
   "id": "3c8361d8c5ab0c8"
  },
  {
   "metadata": {
    "ExecuteTime": {
     "end_time": "2024-05-11T05:45:59.319969Z",
     "start_time": "2024-05-11T05:45:59.258357Z"
    }
   },
   "cell_type": "code",
   "source": [
    "from pyecharts.charts import Timeline, Bar, Map\n",
    "from pyecharts import options as opts\n",
    "from Switch_CH import switch_ch\n",
    "\n",
    "\n",
    "houseNumAreas = Timeline(init_opts=opts.InitOpts(width=\"1000px\", height=\"450px\"))\n",
    "\n",
    "for area in areas:\n",
    "    values = dfs[area].区域.value_counts()\n",
    "    \n",
    "    c = (\n",
    "        Bar(init_opts=opts.InitOpts(width=\"600px\", height=\"600px\"))\n",
    "        .add_xaxis(values.index.tolist())\n",
    "        .add_yaxis(\"二手房数量\", values.values.tolist())\n",
    "        .set_global_opts(title_opts=opts.TitleOpts(title=switch_ch(area)))\n",
    "    )\n",
    "    houseNumAreas.add(c, switch_ch(area))\n",
    "\n",
    "    \n",
    "houseNumAreas.render(\"./HTML/houseNumAreas_bar_timeline.html\")"
   ],
   "id": "83c402db9d311add",
   "outputs": [
    {
     "data": {
      "text/plain": [
       "'D:\\\\Code\\\\Pycharm\\\\Homework_Code\\\\Final_Assignment\\\\HTML\\\\houseNumAreas_bar_timeline.html'"
      ]
     },
     "execution_count": 2,
     "metadata": {},
     "output_type": "execute_result"
    }
   ],
   "execution_count": 2
  },
  {
   "metadata": {
    "ExecuteTime": {
     "end_time": "2024-05-11T05:45:59.351482Z",
     "start_time": "2024-05-11T05:45:59.319969Z"
    }
   },
   "cell_type": "code",
   "source": [
    "values = dfs['xishan'].区域.value_counts()\n",
    "\n",
    "unit_price_dit = {}\n",
    "#求地区房价的平均值\n",
    "for area in areas:\n",
    "    price = dfs[area].单价.str.extract(r'(\\d+,\\d+)')\n",
    "    price = price.dropna()\n",
    "    price = price[0].str.replace(',', '').astype(int)\n",
    "    print(area, int(price.mean()))\n",
    "    unit_price_dit[area] = int(price.mean())\n",
    "    \n",
    "unit_price_dit = {switch_ch(z): v for z, v in unit_price_dit.items()}\n",
    "print(unit_price_dit)\n",
    "    \n",
    "unitPriceMap = (\n",
    "    Map(init_opts=opts.InitOpts(width=\"850px\", height=\"850px\"))\n",
    "    .add(\"二手房平均单价\", [list(z) for z in zip(unit_price_dit.keys(), unit_price_dit.values())], \"无锡\")\n",
    "    .set_global_opts(\n",
    "        title_opts=opts.TitleOpts(title=\"无锡市二手房单价分布图\"),\n",
    "        visualmap_opts=opts.VisualMapOpts(\n",
    "            max_= 22000,\n",
    "            min_= 10000,\n",
    "        )\n",
    "    )\n",
    "    \n",
    ")\n",
    "\n",
    "unitPriceMap.render(\"./HTML/unitPriceMap_map_visualmap_piecewise.html\")"
   ],
   "id": "6d3989b312279226",
   "outputs": [
    {
     "name": "stdout",
     "output_type": "stream",
     "text": [
      "binhu 21552\n",
      "liangxi 19003\n",
      "xinwu 14761\n",
      "huishan 13783\n",
      "xishan 15219\n",
      "jiangyinshi 11651\n",
      "yixingshi 11580\n",
      "{'滨湖区': 21552, '梁溪区': 19003, '新吴区': 14761, '惠山区': 13783, '锡山区': 15219, '江阴市': 11651, '宜兴市': 11580}\n"
     ]
    },
    {
     "data": {
      "text/plain": [
       "'D:\\\\Code\\\\Pycharm\\\\Homework_Code\\\\Final_Assignment\\\\HTML\\\\unitPriceMap_map_visualmap_piecewise.html'"
      ]
     },
     "execution_count": 3,
     "metadata": {},
     "output_type": "execute_result"
    }
   ],
   "execution_count": 3
  },
  {
   "metadata": {
    "ExecuteTime": {
     "end_time": "2024-05-11T05:45:59.368003Z",
     "start_time": "2024-05-11T05:45:59.352483Z"
    }
   },
   "cell_type": "code",
   "source": [
    "from pyecharts.charts import Pie, Timeline\n",
    "\n",
    "house_towards = Timeline(init_opts=opts.InitOpts(width=\"500px\", height=\"500px\"))\n",
    "for area in areas:\n",
    "    dfs[area].朝向 = dfs[area].朝向.str.replace(' ', '')\n",
    "    towardsValues = dfs[area].朝向.value_counts()\n",
    "    \n",
    "    chart1 = (\n",
    "        Pie()\n",
    "        .add(\n",
    "            \"\",\n",
    "            [list(z) for z in zip(towardsValues.index.tolist(), towardsValues.values.tolist())],\n",
    "            radius=[\"40%\", \"75%\"],\n",
    "        )\n",
    "        .set_global_opts(\n",
    "            title_opts=opts.TitleOpts(title=f\"{switch_ch(area)}朝向分布图\"),\n",
    "            legend_opts=opts.LegendOpts(orient=\"vertical\", pos_top=\"15%\", pos_right=\"2%\"),\n",
    "        )\n",
    "        .set_series_opts(label_opts=opts.LabelOpts(formatter=\"{b}: {c}\"))\n",
    "    )\n",
    "    house_towards.add(chart1, switch_ch(area))\n",
    "house_towards.render(\"./HTML/house_towards_pie_timeline.html\")\n"
   ],
   "id": "d4cee80b9f45093b",
   "outputs": [
    {
     "data": {
      "text/plain": [
       "'D:\\\\Code\\\\Pycharm\\\\Homework_Code\\\\Final_Assignment\\\\HTML\\\\house_towards_pie_timeline.html'"
      ]
     },
     "execution_count": 4,
     "metadata": {},
     "output_type": "execute_result"
    }
   ],
   "execution_count": 4
  },
  {
   "metadata": {
    "ExecuteTime": {
     "end_time": "2024-05-11T05:45:59.383305Z",
     "start_time": "2024-05-11T05:45:59.368058Z"
    }
   },
   "cell_type": "code",
   "source": [
    "from pyecharts.charts import Timeline, Pie\n",
    "from pyecharts import options as opts\n",
    "\n",
    "fulCondition = Timeline(init_opts=opts.InitOpts(width=\"500px\", height=\"500px\"))\n",
    "\n",
    "for area in areas:\n",
    "    fulConditionValues = dfs[area].装修情况.value_counts()\n",
    "    \n",
    "    chart2 = (\n",
    "        Pie()\n",
    "        .add(\n",
    "            \"\",\n",
    "            [list(z) for z in zip(fulConditionValues.index.tolist(), fulConditionValues.values.tolist())],\n",
    "            radius=[\"30%\", \"75%\"],\n",
    "            center=[\"50%\", \"50%\"],\n",
    "            rosetype=\"radius\",\n",
    "        )\n",
    "        .set_global_opts(title_opts=opts.TitleOpts(title=f\"{switch_ch(area)}装修情况分布图\"),\n",
    "                         legend_opts=opts.LegendOpts(orient=\"vertical\", pos_top=\"15%\", pos_right=\"2%\"),)\n",
    "        \n",
    "    )\n",
    "    fulCondition.add(chart2, switch_ch(area))\n",
    "\n",
    "fulCondition.render(\"./HTML/fulConditionValues_raduius_timeline.html\")\n"
   ],
   "id": "1fd69faff7d4ad2b",
   "outputs": [
    {
     "data": {
      "text/plain": [
       "'D:\\\\Code\\\\Pycharm\\\\Homework_Code\\\\Final_Assignment\\\\HTML\\\\fulConditionValues_raduius_timeline.html'"
      ]
     },
     "execution_count": 5,
     "metadata": {},
     "output_type": "execute_result"
    }
   ],
   "execution_count": 5
  },
  {
   "metadata": {},
   "cell_type": "code",
   "source": [
    "from pyecharts.charts import Page\n",
    "\n",
    "page = (\n",
    "    Page(layout=Page.DraggablePageLayout)\n",
    ")\n",
    "\n",
    "page.add(houseNumAreas, unitPriceMap, house_towards, fulCondition)\n",
    "# page.render(\"./HTML/page_horizontal.html\")\n",
    "page.save_resize_html(source='./HTML/page_horizontal.html',cfg_file='./HTML/chart_config.json',dest='./HTML/result.html')"
   ],
   "id": "8acae6b704c8681e",
   "outputs": [],
   "execution_count": null
  },
  {
   "metadata": {
    "ExecuteTime": {
     "end_time": "2024-05-11T05:45:59.414486Z",
     "start_time": "2024-05-11T05:45:59.399014Z"
    }
   },
   "cell_type": "code",
   "source": "",
   "id": "6459de6bb376befd",
   "outputs": [],
   "execution_count": 6
  }
 ],
 "metadata": {
  "kernelspec": {
   "display_name": "Python 3",
   "language": "python",
   "name": "python3"
  },
  "language_info": {
   "codemirror_mode": {
    "name": "ipython",
    "version": 2
   },
   "file_extension": ".py",
   "mimetype": "text/x-python",
   "name": "python",
   "nbconvert_exporter": "python",
   "pygments_lexer": "ipython2",
   "version": "2.7.6"
  }
 },
 "nbformat": 4,
 "nbformat_minor": 5
}
